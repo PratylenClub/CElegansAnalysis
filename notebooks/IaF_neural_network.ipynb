{
 "cells": [
  {
   "cell_type": "markdown",
   "metadata": {},
   "source": [
    "# Integrate and Fire neural network"
   ]
  },
  {
   "cell_type": "markdown",
   "metadata": {},
   "source": [
    "In this model the voltage changes of the neuron are divided in two parts:\n",
    "\n",
    "1. Under the threshold value the membrane has no voltage-dependent ion channels and act passively as a leaky capacitor whose voltage decays to a resting level $E_L$\n",
    "2. When the voltage reaches the action potential threshold the model assumes that the voltages spikes immediately to a level $V_{spike}$ and then is inmmediately reset to a hyperpolarized level $V_{reset}$. \n",
    "\n",
    "$$\n",
    "\\tau_m \\frac{dV}{dt}=E_L - V + R_m I_m\n",
    "$$\n",
    "\n",
    "$$\n",
    "\\tau_m=R_mC_m\n",
    "$$"
   ]
  },
  {
   "cell_type": "code",
   "execution_count": null,
   "metadata": {
    "collapsed": true
   },
   "outputs": [],
   "source": []
  },
  {
   "cell_type": "code",
   "execution_count": 3,
   "metadata": {
    "collapsed": true
   },
   "outputs": [],
   "source": [
    "%matplotlib inline\n",
    "\n",
    "import matplotlib\n",
    "import matplotlib.pyplot as plt\n",
    "from numpy import *\n",
    "from pylab import *"
   ]
  },
  {
   "cell_type": "code",
   "execution_count": 10,
   "metadata": {},
   "outputs": [
    {
     "data": {
      "image/png": "[encoded data removed]",
      "text/plain": [
       "<matplotlib.figure.Figure at 0x111234310>"
      ]
     },
     "metadata": {},
     "output_type": "display_data"
    }
   ],
   "source": [
    "## setup parameters and state variables\n",
    "T       = 50                  # total time to simulate (msec)\n",
    "dt      = 0.125               # simulation time step (msec) Procesor\n",
    "time    = arange(0, T+dt, dt) # time array\n",
    "t_rest  = 0                   # initial refractory time\n",
    "\n",
    "## LIF properties\n",
    "Vm      = zeros(len(time))    # potential (V) trace over time\n",
    "Rm      = 1                   # resistance (kOhm)\n",
    "Cm      = 10                  # capacitance (uF)\n",
    "tau_m   = Rm*Cm               # time constant (msec)\n",
    "tau_ref = 4                   # refractory period (msec)\n",
    "Vth     = 1                   # spike threshold (V)\n",
    "V_spike = 0.5                 # spike delta (V)\n",
    "\n",
    "## Stimulus\n",
    "I       = 1.2              # input current (A)\n",
    "\n",
    "## iterate over each time step\n",
    "for i, t in enumerate(time):\n",
    "    if t > t_rest:\n",
    "        Vm[i] = Vm[i-1] + (-Vm[i-1] + I*Rm) / tau_m * dt\n",
    "    if t >= Vth:\n",
    "        Vm[i] += V_spike\n",
    "        t_rest = t + tau_ref\n",
    "\n",
    "## plot membrane potential trace\n",
    "plot(time, Vm)\n",
    "title('Leaky Integrate-and-Fire Example')\n",
    "ylabel('Membrane Potential (V)')\n",
    "xlabel('Time (msec)')\n",
    "ylim([0,2])\n",
    "show()"
   ]
  }
 ],
 "metadata": {
  "kernelspec": {
   "display_name": "Python 2",
   "language": "python",
   "name": "python2"
  },
  "language_info": {
   "codemirror_mode": {
    "name": "ipython",
    "version": 2
   },
   "file_extension": ".py",
   "mimetype": "text/x-python",
   "name": "python",
   "nbconvert_exporter": "python",
   "pygments_lexer": "ipython2",
   "version": "2.7.13"
  }
 },
 "nbformat": 4,
 "nbformat_minor": 1
}
